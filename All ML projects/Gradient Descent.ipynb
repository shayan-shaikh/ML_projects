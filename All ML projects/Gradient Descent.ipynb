{
 "cells": [
  {
   "cell_type": "markdown",
   "id": "7a175d92",
   "metadata": {},
   "source": [
    "### Notebook imports and packages"
   ]
  },
  {
   "cell_type": "code",
   "execution_count": 1,
   "id": "241fa73b",
   "metadata": {},
   "outputs": [],
   "source": [
    "import matplotlib.pyplot as plt"
   ]
  },
  {
   "cell_type": "code",
   "execution_count": 2,
   "id": "e940b85d",
   "metadata": {},
   "outputs": [],
   "source": [
    "import numpy as np\n",
    "%matplotlib inline"
   ]
  },
  {
   "cell_type": "markdown",
   "id": "4bb9bc3e",
   "metadata": {},
   "source": [
    "# Example one - a simple cost functions\n",
    "## $f(x) = x^2 + x + 1$\n",
    " "
   ]
  },
  {
   "cell_type": "code",
   "execution_count": 3,
   "id": "6260e29c",
   "metadata": {},
   "outputs": [],
   "source": [
    "def f(x):\n",
    "    return x**2 + x*2 + 1"
   ]
  },
  {
   "cell_type": "code",
   "execution_count": 8,
   "id": "49f01179",
   "metadata": {},
   "outputs": [],
   "source": [
    "x_1 = np.linspace(-3,3,25)\n",
    "\n"
   ]
  },
  {
   "cell_type": "code",
   "execution_count": 9,
   "id": "fb9f46a0",
   "metadata": {},
   "outputs": [
    {
     "data": {
      "text/plain": [
       "array([-3.  , -2.75, -2.5 , -2.25, -2.  , -1.75, -1.5 , -1.25, -1.  ,\n",
       "       -0.75, -0.5 , -0.25,  0.  ,  0.25,  0.5 ,  0.75,  1.  ,  1.25,\n",
       "        1.5 ,  1.75,  2.  ,  2.25,  2.5 ,  2.75,  3.  ])"
      ]
     },
     "execution_count": 9,
     "metadata": {},
     "output_type": "execute_result"
    }
   ],
   "source": [
    "x_1"
   ]
  },
  {
   "cell_type": "code",
   "execution_count": 12,
   "id": "5463fd98",
   "metadata": {},
   "outputs": [
    {
     "data": {
      "text/plain": [
       "Text(0, 0.5, 'F(x)')"
      ]
     },
     "execution_count": 12,
     "metadata": {},
     "output_type": "execute_result"
    },
    {
     "data": {
      "image/png": "[encoded data removed]",
      "text/plain": [
       "<Figure size 432x288 with 1 Axes>"
      ]
     },
     "metadata": {
      "needs_background": "light"
     },
     "output_type": "display_data"
    }
   ],
   "source": [
    "plt.xlim(-3,3)\n",
    "#plt.ylim(1,16)\n",
    "plt.plot(x_1,f(x_1))\n",
    "plt.xlabel(\"X values\",fontsize = 16)\n",
    "plt.ylabel(\"F(x)\", fontsize = 16)"
   ]
  },
  {
   "cell_type": "code",
   "execution_count": 10,
   "id": "9ec6099f",
   "metadata": {},
   "outputs": [],
   "source": [
    "plt.show()"
   ]
  },
  {
   "cell_type": "markdown",
   "id": "af2175ac",
   "metadata": {},
   "source": [
    "## Derivative\n"
   ]
  },
  {
   "cell_type": "code",
   "execution_count": 13,
   "id": "182f2b10",
   "metadata": {},
   "outputs": [],
   "source": [
    "def der(x):\n",
    "    return 2*x + 1"
   ]
  },
  {
   "cell_type": "code",
   "execution_count": null,
   "id": "e2246a8b",
   "metadata": {},
   "outputs": [],
   "source": []
  }
 ],
 "metadata": {
  "kernelspec": {
   "display_name": "Python 3 (ipykernel)",
   "language": "python",
   "name": "python3"
  },
  "language_info": {
   "codemirror_mode": {
    "name": "ipython",
    "version": 3
   },
   "file_extension": ".py",
   "mimetype": "text/x-python",
   "name": "python",
   "nbconvert_exporter": "python",
   "pygments_lexer": "ipython3",
   "version": "3.10.5"
  }
 },
 "nbformat": 4,
 "nbformat_minor": 5
}
